{
  "nbformat": 4,
  "nbformat_minor": 0,
  "metadata": {
    "colab": {
      "provenance": [],
      "authorship_tag": "ABX9TyN/5VFMJ5ho1mJruU/W0bPb",
      "include_colab_link": true
    },
    "kernelspec": {
      "name": "python3",
      "display_name": "Python 3"
    },
    "language_info": {
      "name": "python"
    }
  },
  "cells": [
    {
      "cell_type": "markdown",
      "metadata": {
        "id": "view-in-github",
        "colab_type": "text"
      },
      "source": [
        "<a href=\"https://colab.research.google.com/github/Rodymus/Python/blob/main/MileageConvertor.ipynb\" target=\"_parent\"><img src=\"https://colab.research.google.com/assets/colab-badge.svg\" alt=\"Open In Colab\"/></a>"
      ]
    },
    {
      "cell_type": "code",
      "execution_count": 1,
      "metadata": {
        "colab": {
          "base_uri": "https://localhost:8080/"
        },
        "id": "sADmnlXdEK6j",
        "outputId": "b7c52633-b1c0-43f2-b5fe-95bd59357f74"
      },
      "outputs": [
        {
          "output_type": "stream",
          "name": "stdout",
          "text": [
            "How many kilometers did you run today?9\n",
            "Your 9.0km run was 5.592339mi\n"
          ]
        }
      ],
      "source": [
        "kilo = float(input(\"How many kilometers did you run today?\"))\n",
        "\n",
        "millas = kilo * 0.621371\n",
        "\n",
        "print(f\"Your {kilo}km run was {millas}mi\")"
      ]
    }
  ]
}