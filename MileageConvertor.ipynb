{
  "nbformat": 4,
  "nbformat_minor": 0,
  "metadata": {
    "colab": {
      "provenance": [],
      "authorship_tag": "ABX9TyMndsrPjLqj/+q8AwWE1qGA",
      "include_colab_link": true
    },
    "kernelspec": {
      "name": "python3",
      "display_name": "Python 3"
    },
    "language_info": {
      "name": "python"
    }
  },
  "cells": [
    {
      "cell_type": "markdown",
      "metadata": {
        "id": "view-in-github",
        "colab_type": "text"
      },
      "source": [
        "<a href=\"https://colab.research.google.com/github/Rodymus/Python/blob/main/MileageConvertor.ipynb\" target=\"_parent\"><img src=\"https://colab.research.google.com/assets/colab-badge.svg\" alt=\"Open In Colab\"/></a>"
      ]
    },
    {
      "cell_type": "code",
      "execution_count": null,
      "metadata": {
        "colab": {
          "base_uri": "https://localhost:8080/"
        },
        "id": "sADmnlXdEK6j",
        "outputId": "72c03003-199e-4f8e-db76-128599a647c2"
      },
      "outputs": [
        {
          "output_type": "stream",
          "name": "stdout",
          "text": [
            "How many kilometers did you run today? 10\n",
            "Your 10.0 km run was 6.21 mi\n"
          ]
        }
      ],
      "source": [
        "kms = float(input(\"How many kilometers did you run today? \"))\n",
        "\n",
        "miles = round(kms * 0.621371, 2)\n",
        "\n",
        "print(f\"Your {kms} km run was {miles} mi\")"
      ]
    },
    {
      "cell_type": "code",
      "source": [],
      "metadata": {
        "id": "aeKZKguGH5Ft"
      },
      "execution_count": null,
      "outputs": []
    },
    {
      "cell_type": "markdown",
      "source": [],
      "metadata": {
        "id": "xFIjSQHQGK90"
      }
    }
  ]
}